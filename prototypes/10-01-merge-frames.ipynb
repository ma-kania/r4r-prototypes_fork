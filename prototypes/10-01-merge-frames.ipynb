{
 "cells": [
  {
   "cell_type": "code",
   "execution_count": 25,
   "metadata": {},
   "outputs": [],
   "source": [
    "import pandas as pd\n",
    "import numpy\n",
    "import pprint"
   ]
  },
  {
   "cell_type": "code",
   "execution_count": 26,
   "metadata": {},
   "outputs": [],
   "source": [
    "# df1 = pd.read_csv(\n",
    "#     r'C:\\Users\\plank\\Documents\\git\\r4r-prototypes\\prototypes\\csvs-cyface\\test\\koethen-test.csv')\n",
    "# df2 = pd.read_csv(\n",
    "#     r'C:\\Users\\plank\\Documents\\git\\r4r-prototypes\\prototypes\\csvs-cyface\\test\\koethen-test-acc.csv')\n",
    "\n",
    "# df1['timestamp [ms]'] = pd.to_datetime(df1['timestamp [ms]'], unit='ms')\n",
    "# df2['timestamp [ms]'] = pd.to_datetime(df2['timestamp [ms]'], unit='ms')\n",
    "\n",
    "# merged_df = pd.merge(df1, df2, on=[\n",
    "#                      'deviceId', 'measurementId', 'trackId', 'timestamp [ms]'], how='outer')\n",
    "\n",
    "# merged_df = merged_df.sort_values(by='timestamp [ms]')\n",
    "# merged_df['latitude'] = merged_df['latitude'].fillna(method='ffill')\n",
    "# merged_df['longitude'] = merged_df['longitude'].fillna(method='ffill')\n",
    "\n",
    "# merged_df['accuracy [m]'] = merged_df['accuracy [m]'].fillna(method='ffill')\n",
    "# merged_df.to_csv(\n",
    "#     r'C:\\Users\\plank\\Documents\\git\\r4r-prototypes\\prototypes\\csvs-cyface\\test\\koethen-test-both.csv')"
   ]
  },
  {
   "cell_type": "code",
   "execution_count": 27,
   "metadata": {},
   "outputs": [],
   "source": [
    "# df_location = pd.read_csv(\n",
    "#     r'C:\\Users\\plank\\Documents\\git\\r4r-prototypes\\prototypes\\csvs-cyface\\test\\koethen-test.csv')\n",
    "# df_acceleration = pd.read_csv(\n",
    "#     r'C:\\Users\\plank\\Documents\\git\\r4r-prototypes\\prototypes\\csvs-cyface\\test\\koethen-test-acc.csv')"
   ]
  },
  {
   "cell_type": "code",
   "execution_count": 28,
   "metadata": {},
   "outputs": [],
   "source": [
    "df_location = pd.read_csv(\n",
    "    r'C:\\Users\\plank\\Documents\\git\\r4r-prototypes\\prototypes\\csvs-cyface\\2024-01-08_Koethen\\locations_2024-01-08_15-17-10.csv')\n",
    "df_acceleration = pd.read_csv(\n",
    "    r'C:\\Users\\plank\\Documents\\git\\r4r-prototypes\\prototypes\\csvs-cyface\\2024-01-08_Koethen\\acceleration_2024-01-08_16-12-23.csv')"
   ]
  },
  {
   "cell_type": "code",
   "execution_count": 29,
   "metadata": {},
   "outputs": [],
   "source": [
    "df_location['timestamp [ms]'] = pd.to_datetime(\n",
    "    df_location['timestamp [ms]'], unit='ms')\n",
    "df_acceleration['timestamp [ms]'] = pd.to_datetime(\n",
    "    df_acceleration['timestamp [ms]'], unit='ms')\n",
    "\n",
    "df_location.sort_values(by='timestamp [ms]', inplace=True)\n",
    "df_acceleration.sort_values(by='timestamp [ms]', inplace=True)"
   ]
  },
  {
   "cell_type": "code",
   "execution_count": 30,
   "metadata": {},
   "outputs": [],
   "source": [
    "def interpolate_lat_lon(acc_row, df_location):\n",
    "    # Find the nearest location timestamps before and after the acceleration measurement\n",
    "    before = df_location[df_location['timestamp [ms]']\n",
    "                         <= acc_row['timestamp [ms]']].tail(1)\n",
    "    after = df_location[df_location['timestamp [ms]']\n",
    "                        > acc_row['timestamp [ms]']].head(1)\n",
    "\n",
    "    if before.empty or after.empty:\n",
    "        return np.nan, np.nan  # Return NaN if no bounding GPS data points are found\n",
    "\n",
    "    # Linear interpolation\n",
    "    total_time_diff = (after.iloc[0]['timestamp [ms]'] -\n",
    "                       before.iloc[0]['timestamp [ms]']).total_seconds()\n",
    "    elapsed_time = (acc_row['timestamp [ms]'] -\n",
    "                    before.iloc[0]['timestamp [ms]']).total_seconds()\n",
    "\n",
    "    lat_interp = before.iloc[0]['latitude'] + (\n",
    "        after.iloc[0]['latitude'] - before.iloc[0]['latitude']) * (elapsed_time / total_time_diff)\n",
    "    lon_interp = before.iloc[0]['longitude'] + (\n",
    "        after.iloc[0]['longitude'] - before.iloc[0]['longitude']) * (elapsed_time / total_time_diff)\n",
    "\n",
    "    return lat_interp, lon_interp\n",
    "\n",
    "\n",
    "# Apply the interpolation function to each row in the acceleration dataframe\n",
    "df_acceleration[['interp_latitude', 'interp_longitude']] = df_acceleration.apply(\n",
    "    lambda row: interpolate_lat_lon(row, df_location), axis=1, result_type='expand')"
   ]
  },
  {
   "cell_type": "code",
   "execution_count": null,
   "metadata": {},
   "outputs": [],
   "source": [
    "df_acceleration.to_csv(\n",
    "    r'C:\\Users\\plank\\Documents\\git\\r4r-prototypes\\prototypes\\csvs-cyface\\2024-01-08_Koethen\\koethen-test-both.csv')"
   ]
  },
  {
   "cell_type": "code",
   "execution_count": null,
   "metadata": {},
   "outputs": [],
   "source": [
    "df_acceleration.dropna(\n",
    "    subset=['interp_latitude', 'interp_longitude'], inplace=True)"
   ]
  }
 ],
 "metadata": {
  "kernelspec": {
   "display_name": "geo",
   "language": "python",
   "name": "python3"
  },
  "language_info": {
   "codemirror_mode": {
    "name": "ipython",
    "version": 3
   },
   "file_extension": ".py",
   "mimetype": "text/x-python",
   "name": "python",
   "nbconvert_exporter": "python",
   "pygments_lexer": "ipython3",
   "version": "3.12.1"
  }
 },
 "nbformat": 4,
 "nbformat_minor": 2
}
