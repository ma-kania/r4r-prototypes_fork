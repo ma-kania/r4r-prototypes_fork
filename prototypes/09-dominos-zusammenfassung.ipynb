{
 "cells": [
  {
   "cell_type": "markdown",
   "metadata": {},
   "source": [
    "# Isochronen in Freiberg 3\n",
    "## Dominos Pizza als Beispiel\n",
    "\n",
    "Erreichbarkeitsanalyse mit OpenStreetMap Daten für den Dominos Pizza in Freiberg.\n",
    "\n",
    "Dominos OSM ID 4750837413 https://www.openstreetmap.org/node/4750837413\n",
    "\n",
    "Die nächste Kreuzung wird vom Tool als Startpunkt genommen. ID 2487859077 https://www.openstreetmap.org/node/2487859077\n",
    "\n",
    "Dargestellt werden verschiedene Isochronen für verschiedene erlaubte Straßen/Wege.\n",
    "\n",
    "- Die Fahzeit beträgt jeweils 15 Minuten.\n",
    "- Höchste erlaubte Geschwindigkeit in der Stadt: 6km/h = 1.66m/s\n",
    "- Betriebsgeschwindigkeit unserer aktuellen Plattform: 3.6km/h = 1m/s\n",
    "- Die Isochronen wurden für die Betriebsgeschwindigkeit berechnet.\n",
    "\n",
    "Eingezeichnet sind auch:\n",
    "\n",
    "- Maximale Lieferdistanz von Dominos 2,6 km (großer roter Kreis)\n",
    "- Maximale Distanz die in 15 Minuten zurückgelegt werden kann: 900m (= 1m/s * 15min * 60s/min) (kleiner grüner Kreis)\n",
    "\n",
    "Die Karte ist interaktiv. Oben rechts können verschiedene Layer ein- und ausgeschaltet werden.\n",
    "\n",
    "Die Straßen können angeklickt werden um die Namen und vorhandenen OSM Attribute anzuzeigen.\n",
    "\n",
    "### Scenario Beschreibungen\n",
    "\n",
    "- Small: Nur Gehwege und Fußgängerzonen sind erlaubt.\n",
    "- Medium: Alles außer große Straßen sind erlaubt.\n",
    "- Medium-restricted: Geh- und Radwege sind erlaubt.\n",
    "- Large: Nur Straßen sind erlaubt, keine Fuß und Radwege.\n",
    "- Optimal: Vergleichsszenario, alles ist erlaubt."
   ]
  },
  {
   "cell_type": "code",
   "execution_count": null,
   "metadata": {
    "tags": [
     "remove-cell"
    ]
   },
   "outputs": [],
   "source": [
    "import folium\n",
    "import geopandas as gpd\n",
    "import matplotlib.pyplot as plt\n",
    "import networkx as nx\n",
    "import numpy as np\n",
    "import osmnx as ox\n",
    "from configobj import ConfigObj\n",
    "from descartes import PolygonPatch\n",
    "from helpers import configreader as cfr\n",
    "from helpers import osmhelper as oh\n",
    "from helpers import ready4robots as r4r\n",
    "from numpy import asarray, concatenate, ones\n",
    "from pyproj import Proj, transform\n",
    "from shapely.geometry import LineString, MultiPolygon, Point, Polygon\n",
    "from shapely.geometry import mapping"
   ]
  },
  {
   "cell_type": "code",
   "execution_count": null,
   "metadata": {
    "tags": [
     "remove-cell"
    ]
   },
   "outputs": [],
   "source": [
    "import warnings\n",
    "warnings.filterwarnings('ignore')"
   ]
  },
  {
   "cell_type": "code",
   "execution_count": null,
   "metadata": {
    "tags": [
     "remove-cell"
    ]
   },
   "outputs": [],
   "source": [
    "cfg = ConfigObj(\"notebook.ini\")\n",
    "place = \"Freiberg, Sachsen\"\n",
    "trip_times = [5, 10, 15, 20, 25, 30]  # in minutes\n",
    "travel_speed = 3.6  # in km/h\n",
    "\n",
    "ox.config(useful_tags_way=cfr.get_relevant_tags(cfg))\n",
    "ox.config(log_console=True, use_cache=True)\n",
    "ox.__version__"
   ]
  },
  {
   "cell_type": "code",
   "execution_count": null,
   "metadata": {
    "tags": [
     "remove-cell"
    ]
   },
   "outputs": [],
   "source": [
    "# download the street network\n",
    "G_84 = r4r.get_graph(place)"
   ]
  },
  {
   "cell_type": "code",
   "execution_count": null,
   "metadata": {
    "tags": [
     "remove-cell"
    ]
   },
   "outputs": [],
   "source": [
    "center_node = ox.nearest_nodes(G_84, 13.3447448, 50.9162500)\n",
    "# center_node = 3930896811\n",
    "G = ox.project_graph(G_84)"
   ]
  },
  {
   "cell_type": "code",
   "execution_count": null,
   "metadata": {},
   "outputs": [],
   "source": [
    "center_node"
   ]
  },
  {
   "cell_type": "code",
   "execution_count": null,
   "metadata": {
    "tags": [
     "remove-cell"
    ]
   },
   "outputs": [],
   "source": [
    "# add an edge attribute for time in minutes required to traverse each edge\n",
    "meters_per_minute = travel_speed * 1000 / 60  # km per hour to m per minute\n",
    "for u, v, k, data in G.edges(data=True, keys=True):\n",
    "    data['time'] = data['length'] / meters_per_minute"
   ]
  },
  {
   "cell_type": "code",
   "execution_count": null,
   "metadata": {
    "tags": [
     "remove-cell"
    ]
   },
   "outputs": [],
   "source": [
    "def convert_coordinates(geom):\n",
    "    \"\"\"Convert UTM Polygon/MultiPolygon to Lat/Lon Polygon/MultiPolygon.\"\"\"\n",
    "\n",
    "    # Define the UTM zone projection and the lat/long projection\n",
    "    utm_zone = \"EPSG:32633\"  # Example for UTM zone 33N, change as per your UTM zone\n",
    "    latlong = \"EPSG:4326\"\n",
    "    # Change zone accordingly\n",
    "    in_proj = Proj(proj='utm', zone=33, datum='WGS84')\n",
    "    out_proj = Proj(proj='latlong', datum='WGS84')\n",
    "\n",
    "    if geom.geom_type == 'Polygon':\n",
    "        exterior_coords = [transform(in_proj, out_proj, x, y)\n",
    "                           for x, y in geom.exterior.coords]\n",
    "        interior_coords = [[transform(in_proj, out_proj, x, y)\n",
    "                            for x, y in interior.coords] for interior in geom.interiors]\n",
    "        return Polygon(exterior_coords, holes=interior_coords)\n",
    "    elif geom.geom_type == 'MultiPolygon':\n",
    "        polygons = []\n",
    "        for polygon in geom:\n",
    "            polygons.append(convert_coordinates(polygon))\n",
    "        return MultiPolygon(polygons)\n",
    "    else:\n",
    "        raise ValueError(f\"Unsupported geometry type: {geom.geom_type}\")\n",
    "\n",
    "\n",
    "# converted_isochrone_polys = [convert_coordinates(\n",
    "#     polygon) for polygon in isochrone_polys]"
   ]
  },
  {
   "cell_type": "code",
   "execution_count": null,
   "metadata": {
    "tags": [
     "remove-cell"
    ]
   },
   "outputs": [],
   "source": [
    "def prep_graph(place, szenario, travel_speed=3.6):\n",
    "\n",
    "    G_84 = r4r.get_graph(place)\n",
    "\n",
    "    scenario_filter = r4r.get_scenario_filter(cfg, szenario[\"name\"])\n",
    "    H_84 = oh.filter_graph_by_dict(\n",
    "        G_84.copy(), scenario_filter, drop_nodes=False)\n",
    "\n",
    "    center_node = ox.nearest_nodes(H_84, 13.3447448, 50.9162500)\n",
    "    H = ox.project_graph(H_84)\n",
    "\n",
    "    # add an edge attribute for time in minutes required to traverse each edge\n",
    "    meters_per_minute = travel_speed * 1000 / 60  # km per hour to m per minute\n",
    "    for u, v, k, data in H.edges(data=True, keys=True):\n",
    "        data['time'] = data['length'] / meters_per_minute\n",
    "\n",
    "    return H, H_84"
   ]
  },
  {
   "cell_type": "code",
   "execution_count": null,
   "metadata": {
    "tags": [
     "remove-cell"
    ]
   },
   "outputs": [],
   "source": [
    "def make_iso_polys_time(G, edge_buff=25, node_buff=50, infill=False, time_window=15):\n",
    "    # Assume trip_times is a list of time values (in minutes) you're interested in\n",
    "    trip_times = [time_window]\n",
    "\n",
    "    isochrone_polys = []\n",
    "\n",
    "    for trip_time in trip_times:\n",
    "        subgraph = nx.ego_graph(\n",
    "            G, center_node, radius=trip_time, distance='time')\n",
    "\n",
    "        node_points = [Point((data['x'], data['y']))\n",
    "                       for node, data in subgraph.nodes(data=True)]\n",
    "        nodes_gdf = gpd.GeoDataFrame(\n",
    "            {'id': subgraph.nodes()}, geometry=node_points)\n",
    "        nodes_gdf = nodes_gdf.set_index('id')\n",
    "\n",
    "        edge_lines = []\n",
    "        for n_fr, n_to in subgraph.edges():\n",
    "            f = nodes_gdf.loc[n_fr].geometry\n",
    "            t = nodes_gdf.loc[n_to].geometry\n",
    "            edge_lookup = G.get_edge_data(n_fr, n_to).get(0,  None)\n",
    "            if edge_lookup is None:\n",
    "                continue\n",
    "            edge_lookup = edge_lookup.get(\n",
    "                'geometry',  LineString([f, t]))\n",
    "            edge_lines.append(edge_lookup)\n",
    "\n",
    "        n = nodes_gdf.buffer(node_buff).geometry\n",
    "        e = gpd.GeoSeries(edge_lines).buffer(edge_buff).geometry\n",
    "        all_gs = list(n) + list(e)\n",
    "        new_iso = gpd.GeoSeries(all_gs).unary_union\n",
    "\n",
    "        if infill:\n",
    "            new_iso = Polygon(new_iso.exterior)\n",
    "\n",
    "        isochrone_polys.append(new_iso)\n",
    "\n",
    "    return isochrone_polys"
   ]
  },
  {
   "cell_type": "code",
   "execution_count": null,
   "metadata": {
    "tags": [
     "remove-cell"
    ]
   },
   "outputs": [],
   "source": [
    "szenarios = list(cfr.yield_scenarios(cfg))\n",
    "H1, _ = prep_graph(place, szenarios[0], travel_speed)\n",
    "H2, _ = prep_graph(place, szenarios[1], travel_speed)\n",
    "H3, _ = prep_graph(place, szenarios[2], travel_speed)\n",
    "H4, _ = prep_graph(place, szenarios[3], travel_speed)\n",
    "H5, _ = prep_graph(place, szenarios[4], travel_speed)"
   ]
  },
  {
   "cell_type": "code",
   "execution_count": null,
   "metadata": {
    "tags": [
     "remove-cell"
    ]
   },
   "outputs": [],
   "source": [
    "# sorting just to show the smaller once on top.\n",
    "subgraphs = [H5, H2, H4, H3, H1]\n",
    "colors = ['red', 'blue', 'green', 'yellow', 'purple']\n",
    "\n",
    "fg_H5 = folium.FeatureGroup(name='Optimal')\n",
    "fg_H2 = folium.FeatureGroup(name='Medium')\n",
    "fg_H4 = folium.FeatureGroup(name='Large')\n",
    "fg_H3 = folium.FeatureGroup(name='Medium-restricted')\n",
    "fg_H1 = folium.FeatureGroup(name='Small')\n",
    "\n",
    "fgs = [fg_H5, fg_H2, fg_H4, fg_H3, fg_H1]\n",
    "\n",
    "m = folium.Map(location=[50.915066, 13.346332], zoom_start=15)\n",
    "m = ox.graph_to_gdfs(G_84, nodes=False).explore(m=m)\n",
    "\n",
    "\n",
    "for i, (subgraph, fg) in enumerate(zip(subgraphs, fgs)):\n",
    "    # Generate 15-min isochrone\n",
    "    iso_polys = make_iso_polys_time(\n",
    "        subgraph, edge_buff=25, node_buff=0, infill=True, time_window=15)\n",
    "\n",
    "    # Convert coordinates if needed\n",
    "    converted_iso_polys = [convert_coordinates(\n",
    "        polygon) for polygon in iso_polys]\n",
    "\n",
    "    # Add to Folium map\n",
    "    for poly in converted_iso_polys:\n",
    "        folium.GeoJson(\n",
    "            data=mapping(poly),\n",
    "            style_function=lambda x, color=colors[i]: {\n",
    "                'color': color,\n",
    "                'weight': 5,\n",
    "                'fill': False,\n",
    "                # 'fillColor': color,\n",
    "                # 'fillOpacity': 0.1\n",
    "            }\n",
    "        ).add_to(fg)\n",
    "    fg.add_to(m)\n",
    "\n",
    "folium.LayerControl().add_to(m)\n",
    "\n",
    "folium.Circle(\n",
    "    location=[50.915066, 13.346332],\n",
    "    radius=900,  # radius in meters\n",
    "    color='green',\n",
    "    fill=False,\n",
    "    # fill_color='blue',\n",
    "    # fill_opacity=0.05\n",
    ").add_to(m)\n",
    "\n",
    "folium.Circle(\n",
    "    location=[50.915066, 13.346332],\n",
    "    radius=2600,  # radius in meters\n",
    "    color='blue',\n",
    "    fill=False,\n",
    "    # fill_color='blue',\n",
    "    # fill_opacity=0.05\n",
    ").add_to(m)\n",
    "\n",
    "# Show the map\n",
    "# m.save(\"dominos_map_full.html\")"
   ]
  },
  {
   "cell_type": "code",
   "execution_count": null,
   "metadata": {},
   "outputs": [],
   "source": [
    "m"
   ]
  },
  {
   "cell_type": "code",
   "execution_count": null,
   "metadata": {},
   "outputs": [],
   "source": []
  }
 ],
 "metadata": {
  "kernelspec": {
   "display_name": "geo",
   "language": "python",
   "name": "python3"
  },
  "language_info": {
   "codemirror_mode": {
    "name": "ipython",
    "version": 3
   },
   "file_extension": ".py",
   "mimetype": "text/x-python",
   "name": "python",
   "nbconvert_exporter": "python",
   "pygments_lexer": "ipython3",
   "version": "3.11.4"
  },
  "orig_nbformat": 4
 },
 "nbformat": 4,
 "nbformat_minor": 2
}
