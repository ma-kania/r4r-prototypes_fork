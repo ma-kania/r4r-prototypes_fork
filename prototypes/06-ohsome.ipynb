{
 "cells": [
  {
   "cell_type": "markdown",
   "metadata": {},
   "source": [
    "# Ohsome API Test\n",
    "\n",
    "Quellen:\n",
    "[HeiGIT](https://heigit.org/big-spatial-data-analytics-en/ohsome/)\n",
    "\n",
    "[ohsome quality analyst (OQT)](https://heigit.org/big-spatial-data-analytics-en/ohsome/ohsome-quality-analyst-oqt/)\n",
    "\n",
    "API Endpoints:"
   ]
  },
  {
   "cell_type": "code",
   "execution_count": null,
   "metadata": {},
   "outputs": [],
   "source": [
    "base_url = \"https://api.ohsome.org/v1\"\n",
    "endpoint = \"/elements/length\"\n",
    "url = base_url + endpoint\n",
    "\n",
    "\n",
    "base_url = \"https://oqt.ohsome.org/api\"\n",
    "endpoint = \"/indicators\"\n",
    "indicator = \"/mapping-saturation\"\n",
    "url = base_url + endpoint + indicator"
   ]
  },
  {
   "cell_type": "code",
   "execution_count": null,
   "metadata": {
    "tags": [
     "remove-cell"
    ]
   },
   "outputs": [],
   "source": [
    "# Helper function to display results.\n",
    "\n",
    "import json\n",
    "import pprint as pp\n",
    "from datetime import datetime\n",
    "from pathlib import Path\n",
    "\n",
    "import matplotlib.patches as patches\n",
    "import matplotlib.pyplot as plt\n",
    "import osmnx as ox\n",
    "import requests\n",
    "from IPython.display import SVG, display\n",
    "from termcolor import colored"
   ]
  },
  {
   "cell_type": "code",
   "execution_count": null,
   "metadata": {
    "tags": [
     "remove-cell"
    ]
   },
   "outputs": [],
   "source": [
    "import warnings\n",
    "warnings.filterwarnings('ignore')"
   ]
  },
  {
   "cell_type": "code",
   "execution_count": null,
   "metadata": {
    "tags": [
     "remove-cell"
    ]
   },
   "outputs": [],
   "source": [
    "def jsonKeys2int(x):\n",
    "    \"\"\"Convert json keys to int\"\"\"\n",
    "    if isinstance(x, dict):\n",
    "        x = {(int(k) if (k != \"inf\" and k != \"self\" and k !=\n",
    "              \"controll\") else k): v for k, v in x.items()}\n",
    "    return x"
   ]
  },
  {
   "cell_type": "code",
   "execution_count": null,
   "metadata": {},
   "outputs": [],
   "source": [
    "def bpolys_from_name(name, which_result):\n",
    "    df = ox.geocoder.geocode_to_gdf(name, which_result=which_result)\n",
    "    north = df.bbox_north[0]\n",
    "    east = df.bbox_east[0]\n",
    "    south = df.bbox_south[0]\n",
    "    west = df.bbox_west[0]\n",
    "    bpolys = {\n",
    "        \"type\": \"Feature\",\n",
    "        \"properties\": {\"id\": \"Region 1\"},\n",
    "        \"geometry\": {\n",
    "            \"type\": \"Polygon\",\n",
    "            \"coordinates\": [\n",
    "                [\n",
    "                    [\n",
    "                        east, north\n",
    "                    ],\n",
    "                    [\n",
    "                        west, north\n",
    "                    ],\n",
    "                    [\n",
    "                        west, south\n",
    "                    ],\n",
    "                    [\n",
    "                        east, south\n",
    "                    ],\n",
    "                    [\n",
    "                        east, north\n",
    "                    ]\n",
    "                ]\n",
    "            ]\n",
    "        }\n",
    "    }\n",
    "    return bpolys"
   ]
  },
  {
   "cell_type": "code",
   "execution_count": null,
   "metadata": {},
   "outputs": [],
   "source": [
    "def display_oqt_results(feature, name):\n",
    "    label = feature[\"results\"][0][\"result\"][\"label\"]\n",
    "    color = feature[\"results\"][0][\"result\"][\"label\"]\n",
    "    description = feature[\"results\"][0][\"result\"][\"description\"]\n",
    "    svg = feature[\"results\"][0][\"result\"][\"svg\"]\n",
    "\n",
    "    # print(json.dumps(result, indent=4))\n",
    "    print(name)\n",
    "    print(\"-\" * len(name))\n",
    "    print(\"Quality Label: \" + colored(label, color))\n",
    "    print(\"Result Description: \" + description)\n",
    "    display(SVG(svg))\n",
    "\n",
    "\n",
    "def display_ohsome_results(result, filter_string):\n",
    "    dates = []\n",
    "    values = []\n",
    "    for r in result:\n",
    "        year = datetime.fromisoformat(r[\"timestamp\"].replace(\"Z\", \"\"))\n",
    "        dates.append(year)\n",
    "        values.append(r[\"value\"])\n",
    "\n",
    "    fig, ax = plt.subplots()\n",
    "    ax.plot(dates, values, label=filter_string)\n",
    "    ax.legend()\n",
    "    fig.suptitle(\"Temporal Evolution of {}\".format(filter_string))\n",
    "    plt.show()"
   ]
  },
  {
   "cell_type": "code",
   "execution_count": null,
   "metadata": {},
   "outputs": [],
   "source": [
    "def get_ohsome_result(url=\"https://api.ohsome.org/v1/elements/length\", name=\"Freiberg, Sachsen\", filter_string=None):\n",
    "\n",
    "    bbox = ox.geocoder.geocode_to_gdf(name, which_result=0)\n",
    "    north = bbox.bbox_north[0]\n",
    "    east = bbox.bbox_east[0]\n",
    "    south = bbox.bbox_south[0]\n",
    "    west = bbox.bbox_west[0]\n",
    "\n",
    "    parameters = {\n",
    "        \"bboxes\": \"{},{},{},{}\".format(west, south, east, north),\n",
    "        \"filter\": \"{}\".format(filter_string),\n",
    "        \"format\": \"json\",\n",
    "        \"time\": \"2008-01-01/2023-01-01/P1M\",\n",
    "    }\n",
    "    headers = {\n",
    "        \"accept\": \"application/json\",\n",
    "        \"Content-Type\": \"application/x-www-form-urlencoded\",\n",
    "    }\n",
    "\n",
    "    print(parameters)\n",
    "\n",
    "    response = requests.post(url, data=parameters, headers=headers)\n",
    "    response.raise_for_status()  # Raise an Exception if HTTP Status Code is not 200\n",
    "\n",
    "    ohsome_result = response.json()[\"result\"]\n",
    "    return ohsome_result"
   ]
  },
  {
   "cell_type": "code",
   "execution_count": null,
   "metadata": {},
   "outputs": [],
   "source": [
    "def get_oqt_result(url=\"https://oqt.ohsome.org/api/indicators/mapping-saturation\", bpolys=None, ohsome_result=None, filter_string=None):\n",
    "\n",
    "    topic = {\n",
    "        \"key\": \"mapping-saturation-cycleways\",\n",
    "        \"name\": \"Cycleways\",\n",
    "        \"description\": \"Number of features taged as {}\".format(filter_string),\n",
    "        \"data\": {\"result\": ohsome_result}\n",
    "    }\n",
    "\n",
    "    parameters = {\n",
    "        \"bpolys\": bpolys,\n",
    "        \"topic\": topic,\n",
    "        \"includeSvg\": True,\n",
    "        \"includeHtml\": False,\n",
    "        \"flatten\": False\n",
    "    }\n",
    "\n",
    "    print(parameters)\n",
    "    headers = {\"Content-Type\": \"application/json\",\n",
    "               \"Accept\": \"application/json\"}\n",
    "    response = requests.post(url, json=parameters, headers=headers)\n",
    "    response.raise_for_status()  # Raise an Exception if HTTP Status Code is not 200\n",
    "\n",
    "    oqt_result = response.json()\n",
    "    return oqt_result"
   ]
  },
  {
   "cell_type": "code",
   "execution_count": null,
   "metadata": {},
   "outputs": [],
   "source": [
    "def get_results(name=\"Freiberg, Sachsen\", which_result=0, filter_string=None):\n",
    "    results = {}\n",
    "    bpolys = bpolys_from_name(name=name, which_result=which_result)\n",
    "    ohsome_result = get_ohsome_result(name=name, filter_string=filter_string)\n",
    "    results[\"highest_count\"] = ohsome_result[-1][\"value\"]\n",
    "    # display_ohsome_results(ohsome_result)\n",
    "    oqt_result = get_oqt_result(\n",
    "        bpolys=bpolys, ohsome_result=ohsome_result, filter_string=filter_string)\n",
    "    results[\"quality_label\"] = oqt_result[\"results\"][0][\"result\"][\"label\"]\n",
    "    results[\"quality_description\"] = oqt_result[\"results\"][0][\"result\"][\"description\"]\n",
    "    results[\"quality_value\"] = oqt_result[\"results\"][0][\"result\"][\"value\"]\n",
    "    # display_oqt_results(oqt_result, name=name)\n",
    "    return results"
   ]
  },
  {
   "cell_type": "code",
   "execution_count": null,
   "metadata": {},
   "outputs": [],
   "source": [
    "def get_results_plot(name=\"Freiberg, Sachsen\", which_result=0, filter_string=None):\n",
    "    results = {}\n",
    "    bpolys = bpolys_from_name(name=name, which_result=which_result)\n",
    "    ohsome_result = get_ohsome_result(name=name, filter_string=filter_string)\n",
    "    results[\"highest_count\"] = ohsome_result[-1][\"value\"]\n",
    "    display_ohsome_results(ohsome_result, filter_string=filter_string)\n",
    "    oqt_result = get_oqt_result(\n",
    "        bpolys=bpolys, ohsome_result=ohsome_result, filter_string=filter_string)\n",
    "    results[\"quality_label\"] = oqt_result[\"results\"][0][\"result\"][\"label\"]\n",
    "    results[\"quality_description\"] = oqt_result[\"results\"][0][\"result\"][\"description\"]\n",
    "    results[\"quality_value\"] = oqt_result[\"results\"][0][\"result\"][\"value\"]\n",
    "    display_oqt_results(oqt_result, name=name)\n",
    "    return results"
   ]
  },
  {
   "cell_type": "markdown",
   "metadata": {},
   "source": [
    "{ city : {\n",
    "    highway_type: {\n",
    "        result_no_tag : result\n",
    "        \"tag\": {\n",
    "            result_tag : result\n",
    "            percentage: result\n",
    "        }\n",
    "    }\n",
    "}"
   ]
  },
  {
   "cell_type": "code",
   "execution_count": null,
   "metadata": {},
   "outputs": [],
   "source": [
    "# filter_string = \"(highway=cycleway or cycleway:both=* or cycleway:left=* or cycleway:right=*) and geometry:line\"\n",
    "# get_results(name=\"Freiberg, Sachsen\", which_result=0)\n",
    "\n",
    "def get_city_results(city=\"Freiberg, Sachsen\", primary_filter=\"highway=*\", secondary_filters=None):\n",
    "    filter_base_line = \"{0} and geometry:line\".format(primary_filter)\n",
    "    results_base_line = get_results(name=city, filter_string=filter_base_line)\n",
    "    tags_dict = {}\n",
    "    tag_dict = {}\n",
    "    filter_all = \"{0} and geometry:line\".format(primary_filter)\n",
    "\n",
    "    for secondary_filter in secondary_filters:\n",
    "\n",
    "        filter_with_tag = \"{0} and {1} and geometry:line\".format(\n",
    "            primary_filter, secondary_filter)\n",
    "        result_with_tag = get_results(name=city, filter_string=filter_with_tag)\n",
    "        print(\"base: {}\".format(results_base_line))\n",
    "        print(\"filtered: {}\".format(result_with_tag))\n",
    "        percentage_with_tag = (result_with_tag.get(\"highest_count\", 0) /\n",
    "                               results_base_line.get(\"highest_count\", 1)) * 100\n",
    "\n",
    "        tag_dict[secondary_filter] = {\n",
    "            \"results_with_tag\": result_with_tag,\n",
    "            \"percentage_with_tag\": percentage_with_tag\n",
    "        }\n",
    "        filter_all += \" and {0}\".format(secondary_filter)\n",
    "\n",
    "    result_with_all_tag = get_results(name=city, filter_string=filter_all)\n",
    "    percentage_with_all_tag = (result_with_all_tag.get(\"highest_count\", 0) /\n",
    "                               results_base_line.get(\"highest_count\", 1)) * 100\n",
    "\n",
    "    tag_dict[filter_all] = {\n",
    "        \"results_with_tag\": result_with_all_tag,\n",
    "        \"percentage_with_tag\": percentage_with_all_tag\n",
    "    }\n",
    "\n",
    "    tag_dict[\"results_no_tag\"] = results_base_line\n",
    "    tags_dict[primary_filter] = tag_dict\n",
    "    return tags_dict\n",
    "    # print(\"% Ways with {} tag {}\".format(secondary_filter, coverage))\n",
    "    # filter_string = \"highway=* and width=* and geometry:line\"\n",
    "    # result_with_width = get_results(name=\"Freiberg, Sachsen\", which_result=0,\n",
    "    #                                 filter_string=filter_string)\n",
    "\n",
    "    # IDEA: What percentage of Ways has all relevant tags?"
   ]
  },
  {
   "cell_type": "code",
   "execution_count": null,
   "metadata": {},
   "outputs": [],
   "source": [
    "def get_city(city=\"Freiberg, Sachsen\", primary_filter=\"highway=*\", secondary_filters=[\"width=*\", \"smoothness=*\", \"surface=*\", \"lit=*\"], force=False):\n",
    "    city_file = Path(\"cache\", \"ohsome_results\" + city + \".json\")\n",
    "    if city_file.exists() and not force:\n",
    "        result_city = dict(\n",
    "            json.load(open(city_file)))\n",
    "    else:\n",
    "        result_city = get_city_results(city, primary_filter, secondary_filters)\n",
    "        json.dump(result_city, open(city_file, 'w'))\n",
    "    return result_city"
   ]
  },
  {
   "cell_type": "code",
   "execution_count": null,
   "metadata": {},
   "outputs": [],
   "source": [
    "def plot_donut(ax, percentage, secondary_text, highest_count=None, radius=0.25, width=0.15):\n",
    "    # Determine the color based on the percentage\n",
    "    if percentage < 25:\n",
    "        colors = ['#ff0000', '#f0f0f0']  # red\n",
    "    elif percentage <= 97:\n",
    "        colors = ['#ffcc00', '#f0f0f0']  # yellow\n",
    "    else:\n",
    "        colors = ['#4caf50', '#f0f0f0']  # green\n",
    "\n",
    "    # Values for the pie chart (donut)\n",
    "    values = [percentage, 100 - percentage]\n",
    "    # Plot the pie chart\n",
    "    wedges, _ = ax.pie(values, colors=colors, startangle=90,\n",
    "                       counterclock=False, radius=radius, wedgeprops={'width': width})\n",
    "    # Equal aspect ratio ensures that pie is drawn as a circle\n",
    "    ax.axis('equal')\n",
    "    # Add the secondary text\n",
    "    ax.text(0, 0, f'{secondary_text}', ha='center', va='center', fontsize=10)\n",
    "    # Add the highest_count text if provided\n",
    "    if highest_count is not None:\n",
    "        ax.text(0, -0.4, f'Count: {highest_count:,.2f}',\n",
    "                ha='center', va='center', fontsize=8)"
   ]
  },
  {
   "cell_type": "code",
   "execution_count": null,
   "metadata": {},
   "outputs": [],
   "source": [
    "def plot_city(city=\"Freiberg, Sachsen\", ohsome_results=None):\n",
    "    rows_data = ohsome_results[city][\"highway=*\"]\n",
    "    # Create a figure and axes to plot the donut charts with any number of rows\n",
    "    fig, axes = plt.subplots(len(rows_data) - 1, 3,\n",
    "                             figsize=(12, len(rows_data) * 4))\n",
    "    plt.subplots_adjust(wspace=0.5, hspace=0.7)\n",
    "    # Adjusting the main title position\n",
    "    plt.suptitle(city, fontsize=16, y=1.05)\n",
    "\n",
    "    # Iterate through the data and plot the donut charts for each row\n",
    "    for i, (key, values) in enumerate(rows_data.items()):\n",
    "\n",
    "        if key == 'results_no_tag':\n",
    "            continue\n",
    "        # Extract values for plotting\n",
    "        results_no_tag = ohsome_results[city][\"highway=*\"]['results_no_tag']\n",
    "        results_with_tag = values['results_with_tag']\n",
    "        percentage_with_tag = values['percentage_with_tag']\n",
    "\n",
    "        # Plot the donut charts\n",
    "        plot_donut(axes[i][0], results_no_tag['quality_value'] * 100,\n",
    "                   f\"{results_no_tag['quality_value'] * 100:.2f}%\", highest_count=results_no_tag['highest_count'])\n",
    "        plot_donut(axes[i][1], results_with_tag['quality_value'] * 100,\n",
    "                   f\"{results_with_tag['quality_value'] * 100:.2f}%\", highest_count=results_with_tag['highest_count'])\n",
    "        plot_donut(axes[i][2], percentage_with_tag,\n",
    "                   f\"{percentage_with_tag:.2f}%\")\n",
    "\n",
    "        # Adding the titles for the rows\n",
    "        # Adjusting the position\n",
    "        axes[i][1].set_title(key, fontsize=14, y=1.05)\n",
    "\n",
    "    plt.show()"
   ]
  },
  {
   "cell_type": "markdown",
   "metadata": {},
   "source": [
    "## Ergebnisse\n",
    "\n",
    "Zu sehen sind:\n",
    "- 1. Spalte die Sättigung des primary_filters. In diesem Fall \"highway=* and geometry:line\". Das umfasst alle Straßen die in OSM eingetragen sind.\n",
    "- 2. Spalte ist die Sättigung inklusive des secondary_filters jeweils durch die Überschrift der Zeile angezeigt. z.B.(width=* würde als Filter haben \"highway=* and geometry:line and width=*\")\n",
    "- 3. Spalte ist das Prozentualle Verhältniss zwischen der maximalen Anzahl von Objekten ohne secondary_filter zu der Anzahl der Objekte mit secondary_filter. Das heißt wie viel Prozent der Straßen dieses Attribut besitzen.\n",
    "\n",
    "## Interpretation\n",
    "\n",
    "Ist eine Sättigung noch nicht erreicht, so sind Freiwillige noch dabei dieses Tag zu vervollständigen. Es ist dann nicht plausibel eine Aussage über die Daten zu treffen, da klar ist, dass sie noch nicht vollständig sind.\n",
    "Ist die Sättigung erreicht, so ist es unwahrscheinlich, dass sich noch jemand die Mühe macht dieses Tag zu vervollständigen.\n",
    "\n",
    "```{note}\n",
    "Nur weil die Sättigung hoch ist bedeutet das nicht, dass alle Attribute/Straßen vollständig eingetragen sind. Es heißt nur, das keine neuen mehr eingetragen werden.\n",
    "Das kann verschiedene Gründe haben. Zum Beispiel, kann es sein, dass Leute sich den Aufwand nicht machen wollen, oder es gibt keine Datenquellen für das Attribut.\n",
    "```\n",
    "\n",
    "Ist die erste Spalte gesättigt und die zweite nicht, wird sich das Verhältniss in der dritten Spalte noch verbessern.\n",
    "\n",
    "Sind Spalte eins und Spalte zwei gesättigt, so wird sich das Verhältniss in der dritten Spalte nicht mehr verbessern. Das bedeutet, es wird bei der angegebenen Abdeckung bleiben.\n",
    "Als Beispiel Freiberg alle Straßen mit Breite: 97.26%, 93,44% und 5,08%.\n",
    "Sättigung der Straßen ist erreicht, es kann also eine Aussage getroffen werden.\n",
    "Sättigung des \"width\" ist zwar noch nicht Erreicht aber schon relativ hoch. Es ist also davon auszugehen, dass sich das Verhältniss nicht mehr groß ändern wird.\n",
    "Das Verhältniss ist 5,08% der Straßen haben eine eingetragende Breite. Das ist sehr wenig und eignet sich nicht für eine Bewertung R4R."
   ]
  },
  {
   "cell_type": "code",
   "execution_count": null,
   "metadata": {},
   "outputs": [],
   "source": [
    "ohsome_results = {}\n",
    "city = \"Freiberg, Sachsen\"\n",
    "ohsome_results[city] = get_city(city)\n",
    "plot_city(city, ohsome_results)"
   ]
  },
  {
   "cell_type": "code",
   "execution_count": null,
   "metadata": {},
   "outputs": [],
   "source": [
    "city = \"Dresden\"\n",
    "ohsome_results[city] = get_city(city)\n",
    "plot_city(city, ohsome_results)"
   ]
  },
  {
   "cell_type": "code",
   "execution_count": null,
   "metadata": {},
   "outputs": [],
   "source": [
    "city = \"Leipzig\"\n",
    "ohsome_results[city] = get_city(city)\n",
    "plot_city(city, ohsome_results)"
   ]
  },
  {
   "cell_type": "markdown",
   "metadata": {},
   "source": [
    "## Sättigungskurven am Beispiel von Freiberg\n",
    "### Alle Wege/Straßen"
   ]
  },
  {
   "cell_type": "code",
   "execution_count": null,
   "metadata": {},
   "outputs": [],
   "source": [
    "primary_filter = \"highway=*\"\n",
    "secondary_filter = \"width=*\"\n",
    "name = \"Freiberg, Sachsen\"\n",
    "filter_with_tag = \"{0} and {1} and geometry:line\".format(\n",
    "    primary_filter, secondary_filter)\n",
    "filter_no_tag = \"{0} and geometry:line\".format(primary_filter)"
   ]
  },
  {
   "cell_type": "code",
   "execution_count": null,
   "metadata": {},
   "outputs": [],
   "source": [
    "get_results_plot(name, filter_string=filter_no_tag)"
   ]
  },
  {
   "cell_type": "code",
   "execution_count": null,
   "metadata": {},
   "outputs": [],
   "source": [
    "get_results_plot(name, filter_string=filter_with_tag)"
   ]
  },
  {
   "cell_type": "markdown",
   "metadata": {},
   "source": [
    "### Nur Radwege"
   ]
  },
  {
   "cell_type": "code",
   "execution_count": null,
   "metadata": {},
   "outputs": [],
   "source": [
    "primary_filter = \"highway=cycleway or cycleway=*\"\n",
    "secondary_filter = \"width=*\"\n",
    "name = \"Freiberg, Sachsen\"\n",
    "filter_with_tag = \"{0} and {1} and geometry:line\".format(\n",
    "    primary_filter, secondary_filter)\n",
    "filter_no_tag = \"{0} and geometry:line\".format(primary_filter)"
   ]
  },
  {
   "cell_type": "code",
   "execution_count": null,
   "metadata": {},
   "outputs": [],
   "source": [
    "get_results_plot(name, filter_string=filter_no_tag)"
   ]
  },
  {
   "cell_type": "code",
   "execution_count": null,
   "metadata": {},
   "outputs": [],
   "source": [
    "get_results_plot(name, filter_string=filter_with_tag)"
   ]
  },
  {
   "cell_type": "markdown",
   "metadata": {},
   "source": [
    "## Sättigungskurven am Beispiel von Dresden\n",
    "### Alle Wege/Straßen"
   ]
  },
  {
   "cell_type": "code",
   "execution_count": null,
   "metadata": {},
   "outputs": [],
   "source": [
    "primary_filter = \"highway=*\"\n",
    "secondary_filter = \"width=*\"\n",
    "name = \"Dresden\"\n",
    "filter_with_tag = \"{0} and {1} and geometry:line\".format(\n",
    "    primary_filter, secondary_filter)\n",
    "filter_no_tag = \"{0} and geometry:line\".format(primary_filter)"
   ]
  },
  {
   "cell_type": "code",
   "execution_count": null,
   "metadata": {},
   "outputs": [],
   "source": [
    "get_results_plot(name, filter_string=filter_no_tag)"
   ]
  },
  {
   "cell_type": "code",
   "execution_count": null,
   "metadata": {},
   "outputs": [],
   "source": [
    "get_results_plot(name, filter_string=filter_with_tag)"
   ]
  },
  {
   "cell_type": "markdown",
   "metadata": {},
   "source": [
    "### Nur Radwege"
   ]
  },
  {
   "cell_type": "code",
   "execution_count": null,
   "metadata": {},
   "outputs": [],
   "source": [
    "primary_filter = \"highway=cycleway or cycleway=*\"\n",
    "secondary_filter = \"width=*\"\n",
    "name = \"Dresden\"\n",
    "filter_with_tag = \"{0} and {1} and geometry:line\".format(\n",
    "    primary_filter, secondary_filter)\n",
    "filter_no_tag = \"{0} and geometry:line\".format(primary_filter)"
   ]
  },
  {
   "cell_type": "code",
   "execution_count": null,
   "metadata": {},
   "outputs": [],
   "source": [
    "get_results_plot(name, filter_string=filter_no_tag)"
   ]
  },
  {
   "cell_type": "code",
   "execution_count": null,
   "metadata": {},
   "outputs": [],
   "source": [
    "get_results_plot(name, filter_string=filter_with_tag)"
   ]
  },
  {
   "cell_type": "code",
   "execution_count": null,
   "metadata": {},
   "outputs": [],
   "source": []
  }
 ],
 "metadata": {
  "kernelspec": {
   "display_name": "paper",
   "language": "python",
   "name": "python3"
  },
  "language_info": {
   "codemirror_mode": {
    "name": "ipython",
    "version": 3
   },
   "file_extension": ".py",
   "mimetype": "text/x-python",
   "name": "python",
   "nbconvert_exporter": "python",
   "pygments_lexer": "ipython3",
   "version": "3.11.4"
  },
  "orig_nbformat": 4
 },
 "nbformat": 4,
 "nbformat_minor": 2
}
