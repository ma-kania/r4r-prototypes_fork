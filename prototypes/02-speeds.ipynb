{
 "cells": [
  {
   "cell_type": "markdown",
   "metadata": {},
   "source": [
    "# Geschwindigkeiten"
   ]
  },
  {
   "cell_type": "code",
   "execution_count": null,
   "metadata": {
    "tags": [
     "remove-cell"
    ]
   },
   "outputs": [],
   "source": [
    "import networkx as nx\n",
    "import osmnx as ox\n",
    "from configobj import ConfigObj\n",
    "from helpers import configreader as cfr\n",
    "from helpers import osmhelper as oh"
   ]
  },
  {
   "cell_type": "code",
   "execution_count": null,
   "metadata": {
    "tags": [
     "remove-cell"
    ]
   },
   "outputs": [],
   "source": [
    "import warnings\n",
    "warnings.filterwarnings('ignore')"
   ]
  },
  {
   "cell_type": "code",
   "execution_count": null,
   "metadata": {},
   "outputs": [],
   "source": [
    "def get_max_speed(cfg, edge, speeds={}):\n",
    "    # example {'osmid': 26524012, 'name': 'Gailnauer Straße',\n",
    "    #  'highway': 'unclassified', 'oneway': False,\n",
    "    #  'length': 31.622999999999998,\n",
    "    # 'geometry': <shapely.geometry.linestring.LineString object at 0x000001E6D0DC1100>}\n",
    "\n",
    "    filters = cfr.get_filters(cfg)\n",
    "    speed = 0\n",
    "    max_speeds = []\n",
    "    for filter_name, filter_values in filters.items():\n",
    "        allowed_speed = speeds.get(filter_name.lower(), 0)\n",
    "        if allowed_speed <= 0:\n",
    "            continue\n",
    "        for tag, allowed_values in filter_values.items():\n",
    "            if tag in edge:\n",
    "                if edge[tag] in allowed_values:\n",
    "                    max_speeds.append(allowed_speed)\n",
    "\n",
    "    if speeds[\"overrides\"]:\n",
    "        for override_name, allowed_speed in speeds[\"overrides\"].items():\n",
    "            filter = cfr.get_override_filter(cfg, override_name.capitalize())\n",
    "            for key, value in filter.items():\n",
    "                # print(key, value)\n",
    "                if key in edge:\n",
    "                    if edge[key] in value:\n",
    "                        speed = allowed_speed\n",
    "\n",
    "    if speed == 0 and max_speeds:\n",
    "        speed = max(max_speeds)\n",
    "        # print(max_speeds)\n",
    "    return speed"
   ]
  },
  {
   "cell_type": "code",
   "execution_count": null,
   "metadata": {},
   "outputs": [],
   "source": [
    "def set_speeds(G_nx, cfg=None, scenario_name=None):\n",
    "    speeds = cfr.get_speeds(cfg, scenario_name)\n",
    "    for u, v, k, edge in G_nx.edges(keys=True, data=True):\n",
    "        max_speed = get_max_speed(cfg, edge, speeds)\n",
    "        edge['length'] = max_speed\n",
    "        # if max_speed == 0:\n",
    "        #     edge['length'] = -1\n",
    "        # else:\n",
    "        #     edge['length'] = edge['length'] / (max_speed / 3.6)\n",
    "\n",
    "    return G_nx"
   ]
  },
  {
   "cell_type": "code",
   "execution_count": null,
   "metadata": {},
   "outputs": [],
   "source": [
    "def analyse_scenario(city, cfg, scenario, override=False, with_speed=True, folder=None):\n",
    "\n",
    "    simplify = cfr.get_simplify(cfg)\n",
    "\n",
    "    # load city\n",
    "    G_nx = oh.get_place(placename=city, simplify=simplify,\n",
    "                        clean_periphery=True,\n",
    "                        file_identifier=\"\", retain_all=True)\n",
    "\n",
    "    # filter_graph by scenario\n",
    "    # filter_scenario = oq.get_scenario_filter(cfg, scenario[\"name\"])\n",
    "\n",
    "    H_nx = G_nx.copy()\n",
    "    # H_nx = oh.filter_graph_by_dict(H_nx, filter_scenario, drop_nodes=False)\n",
    "\n",
    "    H_nx = set_speeds(H_nx, cfg=cfg, scenario_name=scenario[\"name\"])\n",
    "\n",
    "    return H_nx"
   ]
  },
  {
   "cell_type": "code",
   "execution_count": null,
   "metadata": {},
   "outputs": [],
   "source": [
    "cfg = ConfigObj(\"notebook.ini\")\n",
    "scenarios = cfr.get_scenarios(cfg)\n",
    "graphs = []\n",
    "city = \"Freiberg, Sachsen\"\n",
    "for scenario in scenarios:\n",
    "    print(scenario.name)\n",
    "    graph = analyse_scenario(city, cfg, scenario, override=True)\n",
    "    graphs.append(graph)\n",
    "\n",
    "    print(len(list(nx.get_edge_attributes(graph, \"length\").values())))"
   ]
  },
  {
   "cell_type": "code",
   "execution_count": null,
   "metadata": {},
   "outputs": [],
   "source": [
    "for graph, scenario in zip(graphs, scenarios):\n",
    "    print(scenario[\"name\"])\n",
    "    x = ox.plot_graph(graph, figsize=(\n",
    "        12, 12), edge_color=ox.plot.get_edge_colors_by_attr(graph, \"length\"), node_size=0)"
   ]
  }
 ],
 "metadata": {
  "kernelspec": {
   "display_name": "paper",
   "language": "python",
   "name": "python3"
  },
  "language_info": {
   "codemirror_mode": {
    "name": "ipython",
    "version": 3
   },
   "file_extension": ".py",
   "mimetype": "text/x-python",
   "name": "python",
   "nbconvert_exporter": "python",
   "pygments_lexer": "ipython3",
   "version": "3.11.4"
  },
  "vscode": {
   "interpreter": {
    "hash": "6d02badfd54b2ef629bd89f6477a556d3409a57b8a67d32f7da792a265bb9c05"
   }
  }
 },
 "nbformat": 4,
 "nbformat_minor": 2
}
