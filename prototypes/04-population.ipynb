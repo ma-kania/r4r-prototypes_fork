{
 "cells": [
  {
   "cell_type": "markdown",
   "metadata": {},
   "source": [
    "# Population"
   ]
  },
  {
   "cell_type": "code",
   "execution_count": null,
   "metadata": {
    "tags": [
     "remove-cell"
    ]
   },
   "outputs": [],
   "source": [
    "from pathlib import Path\n",
    "\n",
    "import folium\n",
    "import geopandas as gpd\n",
    "import matplotlib.pyplot as plt\n",
    "import numpy as np\n",
    "import osmnx as ox\n",
    "import pandas as pd\n",
    "from configobj import ConfigObj\n",
    "from folium.plugins import HeatMap\n",
    "from helpers import configreader as cfr\n",
    "from helpers import osmhelper as oh\n",
    "from helpers import ready4robots as r4r"
   ]
  },
  {
   "cell_type": "code",
   "execution_count": null,
   "metadata": {
    "tags": [
     "remove-cell"
    ]
   },
   "outputs": [],
   "source": [
    "import warnings\n",
    "warnings.filterwarnings('ignore')"
   ]
  },
  {
   "cell_type": "code",
   "execution_count": null,
   "metadata": {},
   "outputs": [],
   "source": [
    "csv10m = Path((Path(\".\").parent), \"csvs\", \"Freiberg, Sachsen-10m.zip\")\n",
    "df = pd.read_csv(csv10m, compression='zip')\n",
    "df.columns = [\"id\", \"lon\", \"lat\", \"pop\"]\n",
    "df = df.set_index(\"id\")\n",
    "df"
   ]
  },
  {
   "cell_type": "code",
   "execution_count": null,
   "metadata": {},
   "outputs": [],
   "source": [
    "fig, ax = plt.subplots(figsize=(16, 12))\n",
    "ax = df.plot.hexbin(x=\"lon\",\n",
    "                    y=\"lat\",\n",
    "                    C=\"pop\",\n",
    "                    reduce_C_function=np.sum,\n",
    "                    gridsize=50,\n",
    "                    ax=ax)"
   ]
  },
  {
   "cell_type": "code",
   "execution_count": null,
   "metadata": {},
   "outputs": [],
   "source": [
    "tags = {\"type\": \"boundary\"}\n",
    "place = \"Freiberg, Sachsen\"\n",
    "# gdf = ox.geometries_from_place(, tags)\n",
    "# gdf.plot()\n",
    "bbox = ox.geocoder.geocode_to_gdf(place, buffer_dist=200)\n",
    "geom = bbox.geometry.loc[0]\n",
    "\n",
    "p = gpd.GeoSeries(geom).geometry.boundary\n",
    "ax = p.plot(color=None, edgecolor='k', linewidth=2, ax=ax)\n",
    "figure = ax.get_figure()\n",
    "figure"
   ]
  },
  {
   "cell_type": "code",
   "execution_count": null,
   "metadata": {},
   "outputs": [],
   "source": [
    "def heat_map(df):\n",
    "    # lat/long/weight\n",
    "\n",
    "    try:\n",
    "        data = df[[\"lat\", \"lon\", \"pop\"]]\n",
    "    except KeyError:\n",
    "        data = df[[\"x\", \"y\", \"einwohner\"]]\n",
    "\n",
    "    # print(df[\"2\"].max())\n",
    "\n",
    "    m = folium.Map([50.9, 13.37], zoom_start=12)\n",
    "\n",
    "    HeatMap(data, min_opacity=0.4,\n",
    "            gradient={.4: 'blue', .8: 'lime',\n",
    "                      0.9: 'yellow', 0.95: 'orange', 1: 'red'}\n",
    "            ).add_to(folium.FeatureGroup(name='Heat Map').add_to(m))\n",
    "    folium.LayerControl().add_to(m)\n",
    "\n",
    "    # m.save('{0}.html'.format('Freiberg-census-10m'))\n",
    "    return m"
   ]
  },
  {
   "cell_type": "code",
   "execution_count": null,
   "metadata": {},
   "outputs": [],
   "source": [
    "heat_map(df)"
   ]
  },
  {
   "cell_type": "code",
   "execution_count": null,
   "metadata": {},
   "outputs": [],
   "source": [
    "cfg = ConfigObj(\"notebook.ini\")\n",
    "scenarios = cfr.get_scenarios(cfg)\n",
    "G = oh.get_place(placename=place, simplify=True,\n",
    "                 clean_periphery=True,\n",
    "                 file_identifier=\"\", retain_all=True)"
   ]
  },
  {
   "cell_type": "code",
   "execution_count": null,
   "metadata": {},
   "outputs": [],
   "source": [
    "G_nx = r4r.load_pop_scenario(cfg, G, place, \"Optimal\")\n",
    "to_remove = []\n",
    "for node in G_nx.nodes():\n",
    "    try:\n",
    "        G_nx.nodes[node][\"pop\"]\n",
    "    except KeyError:\n",
    "        to_remove.append(node)\n",
    "\n",
    "G.remove_nodes_from(to_remove)\n",
    "x = ox.plot_graph(G,\n",
    "                  figsize=(16, 12),\n",
    "                  node_color=ox.plot.get_node_colors_by_attr(G, \"pop\"),\n",
    "                  node_size=5,\n",
    "                  edge_linewidth=0.1)\n",
    "x"
   ]
  },
  {
   "cell_type": "code",
   "execution_count": null,
   "metadata": {},
   "outputs": [],
   "source": []
  }
 ],
 "metadata": {
  "kernelspec": {
   "display_name": "paper",
   "language": "python",
   "name": "python3"
  },
  "language_info": {
   "codemirror_mode": {
    "name": "ipython",
    "version": 3
   },
   "file_extension": ".py",
   "mimetype": "text/x-python",
   "name": "python",
   "nbconvert_exporter": "python",
   "pygments_lexer": "ipython3",
   "version": "3.9.16"
  },
  "vscode": {
   "interpreter": {
    "hash": "6d02badfd54b2ef629bd89f6477a556d3409a57b8a67d32f7da792a265bb9c05"
   }
  }
 },
 "nbformat": 4,
 "nbformat_minor": 2
}
